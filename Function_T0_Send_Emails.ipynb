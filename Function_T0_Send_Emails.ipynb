{
 "cells": [
  {
   "cell_type": "code",
   "execution_count": null,
   "metadata": {},
   "outputs": [],
   "source": [
    "import smtplib\n",
    "from email.mime.multipart import MIMEMultipart\n",
    "from email.mime.text import MIMEText"
   ]
  },
  {
   "cell_type": "code",
   "execution_count": null,
   "metadata": {},
   "outputs": [],
   "source": [
    "def send_email(subject, sender_email, receiver_email, email_body):\n",
    "    sender_password = \"app_key_password\"\n",
    "    smtp_server = \"smtp.gmail.com\"\n",
    "    port = 587\n",
    "   \n",
    "    message = MIMEMultipart(\"alternative\")\n",
    "    message[\"Subject\"] = subject\n",
    "    message[\"From\"] = sender_email\n",
    "    message[\"To\"] = receiver_email\n",
    "\n",
    "    text = \"Hi Joshua\"\n",
    "    html = email_body\n",
    "  \n",
    "    part1 = MIMEText(text, \"plain\")\n",
    "    part2 = MIMEText(html, \"html\")\n",
    "    message.attach(part1)\n",
    "    message.attach(part2)\n",
    "  \n",
    "    try:\n",
    "        with smtplib.SMTP(smtp_server, port) as server:\n",
    "            server.starttls()  \n",
    "            server.login(sender_email, sender_password)  \n",
    "            server.sendmail(sender_email, receiver_email, message.as_string())  \n",
    "            print(\"Email successfully sent to ID {}\".format(receiver_email))\n",
    "            return True  \n",
    "    except Exception as e:\n",
    "        print(\"Error sending email to {}: {}\".format(receiver_email, e))\n",
    "        return False  "
   ]
  },
  {
   "cell_type": "code",
   "execution_count": null,
   "metadata": {},
   "outputs": [],
   "source": [
    "def status(function):\n",
    "    def wrapper(self):\n",
    "        print(\"Trying to send email...\")\n",
    "        result = function(self)\n",
    "        \n",
    "        if not result:\n",
    "            print(\"Error sending email...visit for help( https://support.google.com/mail/?p=BadCredentials)\")\n",
    "        return result\n",
    "    return wrapper"
   ]
  },
  {
   "cell_type": "code",
   "execution_count": null,
   "metadata": {},
   "outputs": [],
   "source": [
    "class Emails:\n",
    "    def __init__(self, recipient_name, subject, sender, receiver, body):\n",
    "        self.recipient_name = recipient_name\n",
    "        self.subject = subject\n",
    "        self.sender = sender\n",
    "        self.receiver = receiver\n",
    "        self.body = body\n",
    "    @status    \n",
    "    def send_email(self):\n",
    "        send_email(self.subject, self.sender, self.receiver, self.body)"
   ]
  },
  {
   "cell_type": "code",
   "execution_count": null,
   "metadata": {},
   "outputs": [],
   "source": [
    "Email_Use_Case = Emails(\"Example Name\", \"Testing\", \"Example@Gmail.com\", \"Example@Outlook.com\", \"This is a test email\")\n",
    "Email_Use_Case.send_email()"
   ]
  }
 ],
 "metadata": {
  "kernelspec": {
   "display_name": "Python 3",
   "language": "python",
   "name": "python3"
  },
  "language_info": {
   "codemirror_mode": {
    "name": "ipython",
    "version": 3
   },
   "file_extension": ".py",
   "mimetype": "text/x-python",
   "name": "python",
   "nbconvert_exporter": "python",
   "pygments_lexer": "ipython3",
   "version": "3.11.2"
  }
 },
 "nbformat": 4,
 "nbformat_minor": 2
}
